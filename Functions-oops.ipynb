{
 "cells": [
  {
   "cell_type": "code",
   "execution_count": 1,
   "id": "fca52cc8",
   "metadata": {},
   "outputs": [],
   "source": [
    "lists = [10,86,33,3,22,23,34,5]\n",
    "def Agecategory():\n",
    "    for age in lists:\n",
    "        if age<18:\n",
    "            print(\"Children\")\n",
    "        elif age<35:\n",
    "            print(\"Adult\")\n",
    "        elif age<59:\n",
    "            print(\"Citizen\")\n",
    "        else:\n",
    "            print(\"Senior Citizen\")"
   ]
  },
  {
   "cell_type": "code",
   "execution_count": 2,
   "id": "9aeafa1a",
   "metadata": {},
   "outputs": [
    {
     "name": "stdout",
     "output_type": "stream",
     "text": [
      "Children\n",
      "Senior Citizen\n",
      "Adult\n",
      "Children\n",
      "Adult\n",
      "Adult\n",
      "Adult\n",
      "Children\n"
     ]
    }
   ],
   "source": [
    "Agecategory()"
   ]
  },
  {
   "cell_type": "code",
   "execution_count": 4,
   "id": "067d075d",
   "metadata": {},
   "outputs": [],
   "source": [
    "# age=int(input(\"Enter age:\"))\n",
    "# lists = [10,86,33,3,22,23,34,5]\n",
    "def Agecategory():\n",
    "#      for age in lists:\n",
    "        if age<18:\n",
    "            print(\"Children\")\n",
    "            cate=\"Children\"\n",
    "        elif age<35:\n",
    "            print(\"Adult\")\n",
    "            cate=\"Adult\"\n",
    "        elif age<59:\n",
    "            print(\"Citizen\")\n",
    "            cate=\"Citizen\"\n",
    "        else:\n",
    "            print(\"Senior Citizen\")\n",
    "            cate=\"Senior Citizen\"\n",
    "        return cate"
   ]
  },
  {
   "cell_type": "code",
   "execution_count": 5,
   "id": "9ffd8cf9",
   "metadata": {},
   "outputs": [
    {
     "name": "stdout",
     "output_type": "stream",
     "text": [
      "Enter age:59\n"
     ]
    }
   ],
   "source": [
    "age=int(input(\"Enter age:\"))"
   ]
  },
  {
   "cell_type": "code",
   "execution_count": 6,
   "id": "be638f1d",
   "metadata": {},
   "outputs": [
    {
     "name": "stdout",
     "output_type": "stream",
     "text": [
      "Senior Citizen\n"
     ]
    },
    {
     "data": {
      "text/plain": [
       "'Senior Citizen'"
      ]
     },
     "execution_count": 6,
     "metadata": {},
     "output_type": "execute_result"
    }
   ],
   "source": [
    "Agecategory()"
   ]
  },
  {
   "cell_type": "code",
   "execution_count": 8,
   "id": "a833bd95",
   "metadata": {},
   "outputs": [
    {
     "name": "stdout",
     "output_type": "stream",
     "text": [
      "Senior Citizen\n"
     ]
    }
   ],
   "source": [
    "agecate=Agecategory()"
   ]
  },
  {
   "cell_type": "code",
   "execution_count": 9,
   "id": "753a856f",
   "metadata": {},
   "outputs": [
    {
     "data": {
      "text/plain": [
       "'Senior Citizen'"
      ]
     },
     "execution_count": 9,
     "metadata": {},
     "output_type": "execute_result"
    }
   ],
   "source": [
    "agecate"
   ]
  },
  {
   "cell_type": "code",
   "execution_count": 10,
   "id": "dc20fc5d",
   "metadata": {},
   "outputs": [
    {
     "data": {
      "text/plain": [
       "59"
      ]
     },
     "execution_count": 10,
     "metadata": {},
     "output_type": "execute_result"
    }
   ],
   "source": [
    "age"
   ]
  },
  {
   "cell_type": "code",
   "execution_count": null,
   "id": "c31d2435",
   "metadata": {},
   "outputs": [],
   "source": [
    "def oddEven():\n",
    "     num=int(input(\"number:\"))\n",
    "        if num"
   ]
  },
  {
   "cell_type": "code",
   "execution_count": null,
   "id": "519f91e4",
   "metadata": {},
   "outputs": [],
   "source": []
  },
  {
   "cell_type": "code",
   "execution_count": null,
   "id": "0c82c572",
   "metadata": {},
   "outputs": [],
   "source": []
  },
  {
   "cell_type": "code",
   "execution_count": null,
   "id": "08f61b09",
   "metadata": {},
   "outputs": [],
   "source": []
  }
 ],
 "metadata": {
  "kernelspec": {
   "display_name": "Python 3 (ipykernel)",
   "language": "python",
   "name": "python3"
  },
  "language_info": {
   "codemirror_mode": {
    "name": "ipython",
    "version": 3
   },
   "file_extension": ".py",
   "mimetype": "text/x-python",
   "name": "python",
   "nbconvert_exporter": "python",
   "pygments_lexer": "ipython3",
   "version": "3.10.9"
  }
 },
 "nbformat": 4,
 "nbformat_minor": 5
}
