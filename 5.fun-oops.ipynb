{
 "cells": [
  {
   "cell_type": "code",
   "execution_count": 1,
   "id": "2844c202",
   "metadata": {},
   "outputs": [],
   "source": [
    "# age=int(input(\"Enter age:\"))\n",
    "# lists = [10,86,33,3,22,23,34,5]\n",
    "def Agecategory():\n",
    "#      for age in lists:\n",
    "        if age<18:\n",
    "            print(\"Children\")\n",
    "            cate=\"Children\"\n",
    "        elif age<35:\n",
    "            print(\"Adult\")\n",
    "            cate=\"Adult\"\n",
    "        elif age<59:\n",
    "            print(\"Citizen\")\n",
    "            cate=\"Citizen\"\n",
    "        else:\n",
    "            print(\"Senior Citizen\")\n",
    "            cate=\"Senior Citizen\"\n",
    "        return cate"
   ]
  },
  {
   "cell_type": "code",
   "execution_count": 13,
   "id": "d3a6f80a",
   "metadata": {},
   "outputs": [
    {
     "name": "stdout",
     "output_type": "stream",
     "text": [
      "Enter age:77\n",
      "Senior Citizen\n"
     ]
    }
   ],
   "source": [
    "age=int(input(\"Enter age:\"))\n",
    "agecate4=Agecategory()"
   ]
  },
  {
   "cell_type": "code",
   "execution_count": 14,
   "id": "e1d8233d",
   "metadata": {},
   "outputs": [
    {
     "name": "stdout",
     "output_type": "stream",
     "text": [
      "None\n"
     ]
    }
   ],
   "source": [
    "print(agecate)"
   ]
  },
  {
   "cell_type": "code",
   "execution_count": 15,
   "id": "02015185",
   "metadata": {},
   "outputs": [],
   "source": [
    "# age=int(input(\"Enter age:\"))\n",
    "# lists = [10,86,33,3,22,23,34,5]\n",
    "def AgecategoryNOR():\n",
    "#      for age in lists:\n",
    "        if age<18:\n",
    "            print(\"Children\")\n",
    "            cate=\"Children\"\n",
    "        elif age<35:\n",
    "            print(\"Adult\")\n",
    "            cate=\"Adult\"\n",
    "        elif age<59:\n",
    "            print(\"Citizen\")\n",
    "            cate=\"Citizen\"\n",
    "        else:\n",
    "            print(\"Senior Citizen\")\n",
    "            cate=\"Senior Citizen\"\n",
    "#       return cate"
   ]
  },
  {
   "cell_type": "code",
   "execution_count": 16,
   "id": "270edbe9",
   "metadata": {},
   "outputs": [
    {
     "name": "stdout",
     "output_type": "stream",
     "text": [
      "Enter age:76\n",
      "Senior Citizen\n"
     ]
    }
   ],
   "source": [
    "age=int(input(\"Enter age:\"))\n",
    "agecate=AgecategoryNOR()"
   ]
  },
  {
   "cell_type": "code",
   "execution_count": 17,
   "id": "2bfe06db",
   "metadata": {},
   "outputs": [
    {
     "name": "stdout",
     "output_type": "stream",
     "text": [
      "None\n"
     ]
    }
   ],
   "source": [
    "print(agecate)"
   ]
  },
  {
   "cell_type": "code",
   "execution_count": 20,
   "id": "1490ba9a",
   "metadata": {},
   "outputs": [],
   "source": [
    "def posorneg():\n",
    "    number=int(input(\"Enter any number:\"))\n",
    "    if number%5==0:\n",
    "        print(\"No is divisible by 5\")\n",
    "        message=\"in 5\"\n",
    "    else:\n",
    "        print(\"No is not divisible by 5\")\n",
    "        message=\"not in 5\"\n",
    "    return message"
   ]
  },
  {
   "cell_type": "code",
   "execution_count": 27,
   "id": "7f02fd94",
   "metadata": {},
   "outputs": [
    {
     "name": "stdout",
     "output_type": "stream",
     "text": [
      "Enter any number:20\n",
      "No is divisible by 5\n"
     ]
    }
   ],
   "source": [
    "message=posorneg()"
   ]
  },
  {
   "cell_type": "code",
   "execution_count": 28,
   "id": "eead2b05",
   "metadata": {},
   "outputs": [
    {
     "name": "stdout",
     "output_type": "stream",
     "text": [
      "in 5 table\n"
     ]
    }
   ],
   "source": [
    "if message==\"in 5\":\n",
    "    print(\"in 5 table\")\n",
    "else:\n",
    "    print(\"not in 5 table\")"
   ]
  },
  {
   "cell_type": "code",
   "execution_count": 4,
   "id": "c68815ce",
   "metadata": {},
   "outputs": [],
   "source": [
    "def oddEven():\n",
    "    num=int(input(\"number:\"))\n",
    "    if ((num%2)==1):\n",
    "        print(\"Odd\")\n",
    "        mes=\"odd\"\n",
    "    else:\n",
    "        print(\"even\")\n",
    "        mes=\"even\"\n",
    "    return mes"
   ]
  },
  {
   "cell_type": "code",
   "execution_count": 7,
   "id": "ab9d98f8",
   "metadata": {},
   "outputs": [
    {
     "name": "stdout",
     "output_type": "stream",
     "text": [
      "number:2\n",
      "even\n"
     ]
    }
   ],
   "source": [
    "mes=oddEven()"
   ]
  },
  {
   "cell_type": "code",
   "execution_count": 9,
   "id": "ca583dc7",
   "metadata": {},
   "outputs": [
    {
     "name": "stdout",
     "output_type": "stream",
     "text": [
      "EVEN\n"
     ]
    }
   ],
   "source": [
    "if mes==\"odd\":\n",
    "    print(\"ODD\")\n",
    "else:\n",
    "    print(\"EVEN\")"
   ]
  },
  {
   "cell_type": "code",
   "execution_count": 10,
   "id": "e84ae83e",
   "metadata": {},
   "outputs": [],
   "source": [
    "def BMI():\n",
    "    bmi=int(input(\"Enter the BMI Index:\"))\n",
    "    if bmi<18:\n",
    "        print(\"Under weight\")\n",
    "        mes=\"Under weight\"\n",
    "    elif bmi<25:\n",
    "        print(\"Healthy weight\")\n",
    "        mes=\"Healthy weight\"\n",
    "    elif bmi<30:\n",
    "        print(\"Over weight\")\n",
    "        mes=\"Over weight\"\n",
    "    elif bmi<35:\n",
    "        print(\"Very Over weight\")\n",
    "        mes=\"Very Over weight\"\n",
    "    elif bmi<40:\n",
    "        print(\"Severly Obese\")\n",
    "        mes=\"Severly Obese\"\n",
    "    else:\n",
    "        print(\"Morbidly Obese\")\n",
    "        mes=\"Morbidly Obese\"\n",
    "    return mes"
   ]
  },
  {
   "cell_type": "code",
   "execution_count": 11,
   "id": "7d517de9",
   "metadata": {},
   "outputs": [
    {
     "name": "stdout",
     "output_type": "stream",
     "text": [
      "Enter the BMI Index:22\n",
      "Healthy weight\n"
     ]
    }
   ],
   "source": [
    "bmii=BMI()"
   ]
  },
  {
   "cell_type": "markdown",
   "id": "8bf8dd1a",
   "metadata": {},
   "source": []
  },
  {
   "cell_type": "code",
   "execution_count": 12,
   "id": "7028e80a",
   "metadata": {},
   "outputs": [],
   "source": [
    "def addi(nu1,nu2):\n",
    "    addi=nu1+nu2\n",
    "    return addi"
   ]
  },
  {
   "cell_type": "code",
   "execution_count": 13,
   "id": "e3aea581",
   "metadata": {},
   "outputs": [
    {
     "data": {
      "text/plain": [
       "6"
      ]
     },
     "execution_count": 13,
     "metadata": {},
     "output_type": "execute_result"
    }
   ],
   "source": [
    "addi(2,4)"
   ]
  },
  {
   "cell_type": "code",
   "execution_count": 15,
   "id": "fb0ad395",
   "metadata": {},
   "outputs": [
    {
     "data": {
      "text/plain": [
       "894772"
      ]
     },
     "execution_count": 15,
     "metadata": {},
     "output_type": "execute_result"
    }
   ],
   "source": [
    "addi(24+450,894298)"
   ]
  },
  {
   "cell_type": "code",
   "execution_count": 16,
   "id": "91cc6817",
   "metadata": {},
   "outputs": [],
   "source": [
    "def subtraction (nuu1,nuu2):\n",
    "    sub=nuu1-nuu2\n",
    "    return sub"
   ]
  },
  {
   "cell_type": "code",
   "execution_count": 20,
   "id": "6b548a1b",
   "metadata": {},
   "outputs": [
    {
     "data": {
      "text/plain": [
       "4023"
      ]
     },
     "execution_count": 20,
     "metadata": {},
     "output_type": "execute_result"
    }
   ],
   "source": [
    "subtraction(4144-77,44)"
   ]
  },
  {
   "cell_type": "code",
   "execution_count": null,
   "id": "394b8062",
   "metadata": {},
   "outputs": [],
   "source": []
  }
 ],
 "metadata": {
  "kernelspec": {
   "display_name": "Python 3 (ipykernel)",
   "language": "python",
   "name": "python3"
  },
  "language_info": {
   "codemirror_mode": {
    "name": "ipython",
    "version": 3
   },
   "file_extension": ".py",
   "mimetype": "text/x-python",
   "name": "python",
   "nbconvert_exporter": "python",
   "pygments_lexer": "ipython3",
   "version": "3.10.9"
  }
 },
 "nbformat": 4,
 "nbformat_minor": 5
}
