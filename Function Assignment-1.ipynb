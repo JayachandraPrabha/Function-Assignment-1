{
 "cells": [
  {
   "cell_type": "code",
   "execution_count": 1,
   "id": "81bcb6b9",
   "metadata": {},
   "outputs": [],
   "source": [
    "def Subfields():\n",
    "    mes= print(\"\"\"sub-fields in AI are:\n",
    "Machine Learning\n",
    "Neural Networks\n",
    "Vision\n",
    "Robotics\n",
    "Speech Processing\n",
    "Natural Language Processing\"\"\")\n",
    "    return mes"
   ]
  },
  {
   "cell_type": "code",
   "execution_count": 2,
   "id": "dd0ff2ab",
   "metadata": {},
   "outputs": [
    {
     "name": "stdout",
     "output_type": "stream",
     "text": [
      "sub-fields in AI are:\n",
      "Machine Learning\n",
      "Neural Networks\n",
      "Vision\n",
      "Robotics\n",
      "Speech Processing\n",
      "Natural Language Processing\n"
     ]
    }
   ],
   "source": [
    "mes=Subfields()"
   ]
  },
  {
   "cell_type": "code",
   "execution_count": 3,
   "id": "cee1e9b2",
   "metadata": {},
   "outputs": [],
   "source": [
    "def OddEven():\n",
    "    number=int(input(\"Enter  number:\"))\n",
    "    if(number%2==1):\n",
    "        result=print(number,\"is Odd number\")\n",
    "    else:\n",
    "        result=print(number,\"is Even number\")\n",
    "    return result"
   ]
  },
  {
   "cell_type": "code",
   "execution_count": 5,
   "id": "be154d34",
   "metadata": {},
   "outputs": [
    {
     "name": "stdout",
     "output_type": "stream",
     "text": [
      "Enter  number:4\n",
      "4 is Even number\n"
     ]
    }
   ],
   "source": [
    "result=OddEven()"
   ]
  },
  {
   "cell_type": "code",
   "execution_count": 15,
   "id": "0728411a",
   "metadata": {},
   "outputs": [],
   "source": [
    "def Elegible():\n",
    "    gender=input(\"Your Gender:\")\n",
    "    age=int(input(\"Your Age:\"))\n",
    "    if (gender==\"Male\" and age>21):\n",
    "        answer=print(\"ELIGIBLE\")\n",
    "    else:\n",
    "        answer=print(\"NOT ELIGIBLE\")\n",
    "    return answer"
   ]
  },
  {
   "cell_type": "code",
   "execution_count": 16,
   "id": "93b6272e",
   "metadata": {},
   "outputs": [
    {
     "name": "stdout",
     "output_type": "stream",
     "text": [
      "Your Gender:Male\n",
      "Your Age:18\n",
      "NOT ELIGIBLE\n"
     ]
    }
   ],
   "source": [
    "answer=Elegible()"
   ]
  },
  {
   "cell_type": "code",
   "execution_count": 61,
   "id": "d9185cc4",
   "metadata": {},
   "outputs": [],
   "source": [
    "def percentage():\n",
    "    Subject1= int(input(\"Subject1= \"))\n",
    "    Subject2= int(input(\"Subject2= \"))\n",
    "    Subject3= int(input(\"Subject3= \"))\n",
    "    Subject4= int(input(\"Subject4= \"))\n",
    "    Subject5= int(input(\"Subject5= \"))\n",
    "    Total= Subject1+Subject2+Subject3+Subject4+Subject5\n",
    "    result=print(\"Total : \",Total) \n",
    "    percent=float((Total/500)*100)\n",
    "    Percentage= print(\"Percentage : \",percent)"
   ]
  },
  {
   "cell_type": "code",
   "execution_count": 62,
   "id": "39aab5b2",
   "metadata": {},
   "outputs": [
    {
     "name": "stdout",
     "output_type": "stream",
     "text": [
      "Subject1= 23\n",
      "Subject2= 45\n",
      "Subject3= 34\n",
      "Subject4= 23\n",
      "Subject5= 23\n",
      "Total :  148\n",
      "Percentage :  29.599999999999998\n"
     ]
    }
   ],
   "source": [
    "Answer=percentage()"
   ]
  },
  {
   "cell_type": "code",
   "execution_count": 63,
   "id": "047413b6",
   "metadata": {},
   "outputs": [],
   "source": [
    "def triangle():\n",
    "    Height=int(input(\"Height:\"))\n",
    "    Breadth=int(input(\"Breadth:\"))\n",
    "    AreaFormula=print(\"Area formula: (Height*Breadth)/2\")\n",
    "    AreaOfTriangle=(Height*Breadth)/2\n",
    "    result=print(\"Area of Triangle: \",AreaOfTriangle)\n",
    "    \n",
    "    Height1=int(input(\"Height1:\"))\n",
    "    Height2=int(input(\"Height2:\"))\n",
    "    Breadth=int(input(\"Breadth:\"))\n",
    "    PerimeterFormula=print(\"Perimeter formula: Height1+Height2+Breadth\")\n",
    "    PerimeterOfTriangle=Height1+Height2+Breadth\n",
    "    result= print(\"Perimeter of Triangle: \",PerimeterOfTriangle)\n",
    "    return result"
   ]
  },
  {
   "cell_type": "code",
   "execution_count": 64,
   "id": "9dbac1af",
   "metadata": {},
   "outputs": [
    {
     "name": "stdout",
     "output_type": "stream",
     "text": [
      "Height:3\n",
      "Breadth:4\n",
      "Area formula: (Height*Breadth)/2\n",
      "Area of Triangle:  6.0\n",
      "Height1:3\n",
      "Height2:4\n",
      "Breadth:45\n",
      "Perimeter formula: Height1+Height2+Breadth\n",
      "Perimeter of Triangle:  52\n"
     ]
    }
   ],
   "source": [
    "result=triangle()"
   ]
  },
  {
   "cell_type": "code",
   "execution_count": null,
   "id": "012cc3d3",
   "metadata": {},
   "outputs": [],
   "source": []
  }
 ],
 "metadata": {
  "kernelspec": {
   "display_name": "Python 3 (ipykernel)",
   "language": "python",
   "name": "python3"
  },
  "language_info": {
   "codemirror_mode": {
    "name": "ipython",
    "version": 3
   },
   "file_extension": ".py",
   "mimetype": "text/x-python",
   "name": "python",
   "nbconvert_exporter": "python",
   "pygments_lexer": "ipython3",
   "version": "3.10.9"
  }
 },
 "nbformat": 4,
 "nbformat_minor": 5
}
